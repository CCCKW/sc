{
 "cells": [
  {
   "cell_type": "code",
   "execution_count": 2,
   "id": "cc8830cb",
   "metadata": {},
   "outputs": [],
   "source": [
    "import scanpy as sc \n",
    "import matplotlib.pyplot as plt\n",
    "import numpy as np\n",
    "import pandas as pd\n",
    "import seaborn as sns\n",
    "\n",
    "import bbknn\n",
    "import scipy\n",
    "import scipy.stats as stats\n",
    "# sc.settings.set_figure_params(figsize=(5,4)) # 设置全局产生的图片尺寸\n",
    "sc.settings.verbosity = 0 # 设置全局的waring数量，我这里直接不要求显示\n",
    "sc.settings.set_figure_params(dpi_save=400, facecolor='white', fontsize=7, format='jpg')"
   ]
  },
  {
   "cell_type": "code",
   "execution_count": 48,
   "id": "f95ed2d9",
   "metadata": {},
   "outputs": [],
   "source": [
    "adata = sc.read_h5ad('../data/v4-sub-m2.h5ad')"
   ]
  },
  {
   "cell_type": "code",
   "execution_count": 49,
   "id": "01273e6b",
   "metadata": {},
   "outputs": [
    {
     "data": {
      "text/plain": [
       "AnnData object with n_obs × n_vars = 13452 × 4000\n",
       "    obs: 'sample', 'n_genes', 'n_genes_by_counts', 'total_counts', 'total_counts_mt', 'pct_counts_mt', 'leiden', 'leiden_poly'\n",
       "    var: 'gene_ids', 'feature_types', 'n_cells', 'mt', 'n_cells_by_counts', 'mean_counts', 'pct_dropout_by_counts', 'total_counts', 'highly_variable', 'means', 'dispersions', 'dispersions_norm', 'mean', 'std'\n",
       "    uns: 'dendrogram_leiden', 'hvg', 'leiden', 'leiden_colors', 'leiden_poly_colors', 'log1p', 'neighbors', 'pca', 'rank_genes_groups', 'sample_colors', 'umap'\n",
       "    obsm: 'X_pca', 'X_umap'\n",
       "    varm: 'PCs'\n",
       "    obsp: 'connectivities', 'distances'"
      ]
     },
     "execution_count": 49,
     "metadata": {},
     "output_type": "execute_result"
    }
   ],
   "source": [
    "adata"
   ]
  },
  {
   "cell_type": "code",
   "execution_count": 50,
   "id": "204bbd3a",
   "metadata": {},
   "outputs": [],
   "source": [
    "val = []\n",
    "for x in list(adata.obs['sample']):\n",
    "    if x.startswith('AF'):\n",
    "        val.append('AF')\n",
    "    else:\n",
    "        val.append('NAF')\n",
    "adata.obs['sample_group'] = np.array(val)"
   ]
  },
  {
   "cell_type": "code",
   "execution_count": 51,
   "id": "8ad29fa4",
   "metadata": {},
   "outputs": [],
   "source": [
    "df = pd.DataFrame(adata.obs.groupby(['sample_group', 'leiden_poly', 'sample']).count()['n_genes'])\n",
    "df.columns = ['counts']"
   ]
  },
  {
   "cell_type": "code",
   "execution_count": 52,
   "id": "8c47c5c8",
   "metadata": {},
   "outputs": [],
   "source": [
    "percent = []\n",
    "for val in df.index:\n",
    "#     print(df.loc[val[0],val[1],val[2]]['counts'].item())\n",
    "    tp = df.loc[val[0],val[1],val[2]]['counts'].item()/ \\\n",
    "    df.groupby('leiden_poly').sum().loc[val[1],'counts'].item()\n",
    "    percent.append(round(tp,3))\n",
    "df['percent'] = percent\n",
    "df = df[(~(df.loc[:,:,:]['percent'] ==0))]\n",
    "df.to_csv('./df.csv', sep='\\t')\n",
    "df = pd.read_csv('./df.csv',sep='\\t')"
   ]
  },
  {
   "cell_type": "code",
   "execution_count": 53,
   "id": "00d17a90",
   "metadata": {},
   "outputs": [],
   "source": [
    "loc = {'AF':1,'NAF':2}\n",
    "cts = list(np.unique(list(df['leiden_poly'])))"
   ]
  },
  {
   "cell_type": "code",
   "execution_count": 54,
   "id": "70db5325",
   "metadata": {},
   "outputs": [
    {
     "data": {
      "text/html": [
       "<div>\n",
       "<style scoped>\n",
       "    .dataframe tbody tr th:only-of-type {\n",
       "        vertical-align: middle;\n",
       "    }\n",
       "\n",
       "    .dataframe tbody tr th {\n",
       "        vertical-align: top;\n",
       "    }\n",
       "\n",
       "    .dataframe thead th {\n",
       "        text-align: right;\n",
       "    }\n",
       "</style>\n",
       "<table border=\"1\" class=\"dataframe\">\n",
       "  <thead>\n",
       "    <tr style=\"text-align: right;\">\n",
       "      <th></th>\n",
       "      <th>sample_group</th>\n",
       "      <th>leiden_poly</th>\n",
       "      <th>sample</th>\n",
       "      <th>counts</th>\n",
       "      <th>percent</th>\n",
       "    </tr>\n",
       "  </thead>\n",
       "  <tbody>\n",
       "    <tr>\n",
       "      <th>0</th>\n",
       "      <td>AF</td>\n",
       "      <td>Macro1</td>\n",
       "      <td>AF-1</td>\n",
       "      <td>512</td>\n",
       "      <td>0.087</td>\n",
       "    </tr>\n",
       "    <tr>\n",
       "      <th>1</th>\n",
       "      <td>AF</td>\n",
       "      <td>Macro1</td>\n",
       "      <td>AF-2</td>\n",
       "      <td>1328</td>\n",
       "      <td>0.225</td>\n",
       "    </tr>\n",
       "    <tr>\n",
       "      <th>2</th>\n",
       "      <td>AF</td>\n",
       "      <td>Macro1</td>\n",
       "      <td>AF-3</td>\n",
       "      <td>1875</td>\n",
       "      <td>0.317</td>\n",
       "    </tr>\n",
       "    <tr>\n",
       "      <th>3</th>\n",
       "      <td>AF</td>\n",
       "      <td>Macro2</td>\n",
       "      <td>AF-1</td>\n",
       "      <td>1475</td>\n",
       "      <td>0.253</td>\n",
       "    </tr>\n",
       "    <tr>\n",
       "      <th>4</th>\n",
       "      <td>AF</td>\n",
       "      <td>Macro2</td>\n",
       "      <td>AF-2</td>\n",
       "      <td>872</td>\n",
       "      <td>0.150</td>\n",
       "    </tr>\n",
       "    <tr>\n",
       "      <th>5</th>\n",
       "      <td>AF</td>\n",
       "      <td>Macro2</td>\n",
       "      <td>AF-3</td>\n",
       "      <td>319</td>\n",
       "      <td>0.055</td>\n",
       "    </tr>\n",
       "    <tr>\n",
       "      <th>6</th>\n",
       "      <td>AF</td>\n",
       "      <td>Macro3</td>\n",
       "      <td>AF-1</td>\n",
       "      <td>304</td>\n",
       "      <td>0.178</td>\n",
       "    </tr>\n",
       "    <tr>\n",
       "      <th>7</th>\n",
       "      <td>AF</td>\n",
       "      <td>Macro3</td>\n",
       "      <td>AF-2</td>\n",
       "      <td>272</td>\n",
       "      <td>0.159</td>\n",
       "    </tr>\n",
       "    <tr>\n",
       "      <th>8</th>\n",
       "      <td>AF</td>\n",
       "      <td>Macro3</td>\n",
       "      <td>AF-3</td>\n",
       "      <td>327</td>\n",
       "      <td>0.191</td>\n",
       "    </tr>\n",
       "    <tr>\n",
       "      <th>9</th>\n",
       "      <td>NAF</td>\n",
       "      <td>Macro1</td>\n",
       "      <td>NAF-1</td>\n",
       "      <td>605</td>\n",
       "      <td>0.102</td>\n",
       "    </tr>\n",
       "    <tr>\n",
       "      <th>10</th>\n",
       "      <td>NAF</td>\n",
       "      <td>Macro1</td>\n",
       "      <td>NAF-2</td>\n",
       "      <td>1017</td>\n",
       "      <td>0.172</td>\n",
       "    </tr>\n",
       "    <tr>\n",
       "      <th>11</th>\n",
       "      <td>NAF</td>\n",
       "      <td>Macro1</td>\n",
       "      <td>NAF-3</td>\n",
       "      <td>575</td>\n",
       "      <td>0.097</td>\n",
       "    </tr>\n",
       "    <tr>\n",
       "      <th>12</th>\n",
       "      <td>NAF</td>\n",
       "      <td>Macro2</td>\n",
       "      <td>NAF-1</td>\n",
       "      <td>839</td>\n",
       "      <td>0.144</td>\n",
       "    </tr>\n",
       "    <tr>\n",
       "      <th>13</th>\n",
       "      <td>NAF</td>\n",
       "      <td>Macro2</td>\n",
       "      <td>NAF-2</td>\n",
       "      <td>1698</td>\n",
       "      <td>0.291</td>\n",
       "    </tr>\n",
       "    <tr>\n",
       "      <th>14</th>\n",
       "      <td>NAF</td>\n",
       "      <td>Macro2</td>\n",
       "      <td>NAF-3</td>\n",
       "      <td>629</td>\n",
       "      <td>0.108</td>\n",
       "    </tr>\n",
       "    <tr>\n",
       "      <th>15</th>\n",
       "      <td>NAF</td>\n",
       "      <td>Macro3</td>\n",
       "      <td>NAF-1</td>\n",
       "      <td>139</td>\n",
       "      <td>0.081</td>\n",
       "    </tr>\n",
       "    <tr>\n",
       "      <th>16</th>\n",
       "      <td>NAF</td>\n",
       "      <td>Macro3</td>\n",
       "      <td>NAF-2</td>\n",
       "      <td>456</td>\n",
       "      <td>0.267</td>\n",
       "    </tr>\n",
       "    <tr>\n",
       "      <th>17</th>\n",
       "      <td>NAF</td>\n",
       "      <td>Macro3</td>\n",
       "      <td>NAF-3</td>\n",
       "      <td>210</td>\n",
       "      <td>0.123</td>\n",
       "    </tr>\n",
       "  </tbody>\n",
       "</table>\n",
       "</div>"
      ],
      "text/plain": [
       "   sample_group leiden_poly sample  counts  percent\n",
       "0            AF      Macro1   AF-1     512    0.087\n",
       "1            AF      Macro1   AF-2    1328    0.225\n",
       "2            AF      Macro1   AF-3    1875    0.317\n",
       "3            AF      Macro2   AF-1    1475    0.253\n",
       "4            AF      Macro2   AF-2     872    0.150\n",
       "5            AF      Macro2   AF-3     319    0.055\n",
       "6            AF      Macro3   AF-1     304    0.178\n",
       "7            AF      Macro3   AF-2     272    0.159\n",
       "8            AF      Macro3   AF-3     327    0.191\n",
       "9           NAF      Macro1  NAF-1     605    0.102\n",
       "10          NAF      Macro1  NAF-2    1017    0.172\n",
       "11          NAF      Macro1  NAF-3     575    0.097\n",
       "12          NAF      Macro2  NAF-1     839    0.144\n",
       "13          NAF      Macro2  NAF-2    1698    0.291\n",
       "14          NAF      Macro2  NAF-3     629    0.108\n",
       "15          NAF      Macro3  NAF-1     139    0.081\n",
       "16          NAF      Macro3  NAF-2     456    0.267\n",
       "17          NAF      Macro3  NAF-3     210    0.123"
      ]
     },
     "execution_count": 54,
     "metadata": {},
     "output_type": "execute_result"
    }
   ],
   "source": [
    "df"
   ]
  },
  {
   "cell_type": "code",
   "execution_count": 55,
   "id": "f9cd5da8",
   "metadata": {},
   "outputs": [
    {
     "data": {
      "image/png": "[encoded data removed]",
      "text/plain": [
       "<Figure size 320x320 with 1 Axes>"
      ]
     },
     "metadata": {
      "image/png": {
       "height": 299,
       "width": 300
      }
     },
     "output_type": "display_data"
    },
    {
     "data": {
      "image/png": "[encoded data removed]",
      "text/plain": [
       "<Figure size 320x320 with 1 Axes>"
      ]
     },
     "metadata": {
      "image/png": {
       "height": 299,
       "width": 300
      }
     },
     "output_type": "display_data"
    },
    {
     "data": {
      "image/png": "[encoded data removed]",
      "text/plain": [
       "<Figure size 320x320 with 1 Axes>"
      ]
     },
     "metadata": {
      "image/png": {
       "height": 299,
       "width": 304
      }
     },
     "output_type": "display_data"
    }
   ],
   "source": [
    "for ct in cts:\n",
    "    fig = plt.figure()\n",
    "    sns.boxplot(x='sample_group', y='percent',\n",
    "                  data=df[df['leiden_poly']==ct],\n",
    "               )\n",
    "    sns.swarmplot(x='sample_group', y='percent',\n",
    "                  data=df[df['leiden_poly']==ct],color ='k',size = 8,alpha = 0.8)\n",
    "    plt.title(ct)\n",
    "    plt.grid()\n",
    "    plt.savefig('./{}_boxplot.jpg'.format(ct),dpi=400)\n",
    "    "
   ]
  },
  {
   "cell_type": "code",
   "execution_count": 56,
   "id": "b2cd15ea",
   "metadata": {},
   "outputs": [
    {
     "name": "stdout",
     "output_type": "stream",
     "text": [
      "Macro1 's pvals is : 0.2929615888946358\n",
      "Macro2 's pvals is : 0.7411293575013216\n",
      "Macro3 's pvals is : 0.7559577506020241\n"
     ]
    }
   ],
   "source": [
    "for ct in cts:\n",
    "    af = list(df[(df['leiden_poly']==ct)&(df['sample_group']=='AF')]['percent'])\n",
    "    naf = list(df[(df['leiden_poly']==ct)&(df['sample_group']=='NAF')]['percent'])\n",
    "    print('{} \\'s pvals is : {}'.format(ct, stats.ttest_ind(a=af, b=naf, equal_var=True,\n",
    "                                                            \n",
    "                                                            alternative='two-sided')[1]))\n",
    "  "
   ]
  },
  {
   "cell_type": "code",
   "execution_count": null,
   "id": "f9d50eff",
   "metadata": {},
   "outputs": [],
   "source": []
  },
  {
   "cell_type": "code",
   "execution_count": null,
   "id": "ed7f283a",
   "metadata": {},
   "outputs": [],
   "source": []
  },
  {
   "cell_type": "code",
   "execution_count": null,
   "id": "d16dbef9",
   "metadata": {},
   "outputs": [],
   "source": []
  },
  {
   "cell_type": "code",
   "execution_count": null,
   "id": "5b3f20de",
   "metadata": {},
   "outputs": [],
   "source": []
  },
  {
   "cell_type": "code",
   "execution_count": null,
   "id": "897e2133",
   "metadata": {},
   "outputs": [],
   "source": []
  }
 ],
 "metadata": {
  "kernelspec": {
   "display_name": "ckw",
   "language": "python",
   "name": "ckw"
  },
  "language_info": {
   "codemirror_mode": {
    "name": "ipython",
    "version": 3
   },
   "file_extension": ".py",
   "mimetype": "text/x-python",
   "name": "python",
   "nbconvert_exporter": "python",
   "pygments_lexer": "ipython3",
   "version": "3.10.0"
  }
 },
 "nbformat": 4,
 "nbformat_minor": 5
}
