{
 "cells": [
  {
   "cell_type": "code",
   "execution_count": 1,
   "id": "4bb84cd0",
   "metadata": {
    "ExecuteTime": {
     "end_time": "2023-02-08T10:55:25.922105Z",
     "start_time": "2023-02-08T10:55:22.851703Z"
    }
   },
   "outputs": [],
   "source": [
    "import scanpy as sc\n",
    "import diopy\n",
    "import pandas  as pd\n",
    "import os"
   ]
  },
  {
   "cell_type": "code",
   "execution_count": 2,
   "id": "3321d19d",
   "metadata": {
    "ExecuteTime": {
     "end_time": "2023-02-08T10:55:26.205348Z",
     "start_time": "2023-02-08T10:55:25.923241Z"
    }
   },
   "outputs": [],
   "source": [
    "adata = sc.read_h5ad('../data/manual_plot3.h5ad')\n",
    "adata.obs_names_make_unique()"
   ]
  },
  {
   "cell_type": "code",
   "execution_count": null,
   "id": "cfb460c0",
   "metadata": {},
   "outputs": [],
   "source": []
  },
  {
   "cell_type": "code",
   "execution_count": 24,
   "id": "0238893b",
   "metadata": {
    "ExecuteTime": {
     "end_time": "2023-02-07T17:56:57.189343Z",
     "start_time": "2023-02-07T17:56:57.021823Z"
    }
   },
   "outputs": [],
   "source": [
    "mat=pd.DataFrame(data=adata.X.todense(),index=adata.obs_names,columns=adata.var_names)"
   ]
  },
  {
   "cell_type": "code",
   "execution_count": 26,
   "id": "4eac7ae1",
   "metadata": {
    "ExecuteTime": {
     "end_time": "2023-02-07T17:58:07.523623Z",
     "start_time": "2023-02-07T17:58:03.135862Z"
    }
   },
   "outputs": [],
   "source": [
    "mat.to_hdf(\"mat.h5\",\"mat\")"
   ]
  },
  {
   "cell_type": "code",
   "execution_count": 27,
   "id": "b42d5eaa",
   "metadata": {
    "ExecuteTime": {
     "end_time": "2023-02-07T17:58:39.158950Z",
     "start_time": "2023-02-07T17:58:39.006175Z"
    }
   },
   "outputs": [],
   "source": [
    "meta=pd.DataFrame(data=adata.obs)\n",
    "meta.to_csv('metadata.tsv',sep=\"\\t\") "
   ]
  },
  {
   "cell_type": "code",
   "execution_count": 28,
   "id": "603eb8fe",
   "metadata": {
    "ExecuteTime": {
     "end_time": "2023-02-07T17:59:09.296305Z",
     "start_time": "2023-02-07T17:59:09.193126Z"
    }
   },
   "outputs": [],
   "source": [
    "#保存UMAP坐标\n",
    "cord=pd.DataFrame(data=adata.obsm['X_umap'],index=adata.obs_names,columns=['x','y'])\n",
    "cord.to_csv('position_X_umap.tsv',sep=\"\\t\") "
   ]
  },
  {
   "cell_type": "code",
   "execution_count": null,
   "id": "97034467",
   "metadata": {},
   "outputs": [],
   "source": []
  }
 ],
 "metadata": {
  "kernelspec": {
   "display_name": "Python 3 (ipykernel)",
   "language": "python",
   "name": "python3"
  },
  "language_info": {
   "codemirror_mode": {
    "name": "ipython",
    "version": 3
   },
   "file_extension": ".py",
   "mimetype": "text/x-python",
   "name": "python",
   "nbconvert_exporter": "python",
   "pygments_lexer": "ipython3",
   "version": "3.10.0"
  }
 },
 "nbformat": 4,
 "nbformat_minor": 5
}
