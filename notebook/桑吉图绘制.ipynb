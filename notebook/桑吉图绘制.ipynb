{
 "cells": [
  {
   "cell_type": "code",
   "execution_count": 1,
   "id": "ae674997",
   "metadata": {},
   "outputs": [],
   "source": [
    "import scanpy as sc \n",
    "import matplotlib.pyplot as plt\n",
    "import numpy as np\n",
    "import pandas as pd\n",
    "import seaborn as sns\n",
    "import bbknn\n",
    "from scipy import stats\n",
    "from pyecharts import options as opts\n",
    "from pyecharts.charts import Sankey\n",
    "import pandas as pd\n",
    "import matplotlib\n",
    "matplotlib.use('TkAgg') # 指定\n",
    "%matplotlib inline\n",
    "# sc.settings.set_figure_params(figsize=(5,4)) # 设置全局产生的图片尺寸\n",
    "sc.settings.verbosity = 0 # 设置全局的waring数量，我这里直接不要求显示\n",
    "sc.settings.set_figure_params(dpi=100, facecolor='white', fontsize=7, format='jpg')"
   ]
  },
  {
   "cell_type": "code",
   "execution_count": 10,
   "id": "d08d4445",
   "metadata": {},
   "outputs": [],
   "source": [
    "adata = sc.read_h5ad('../data/v4-sub-fib.h5ad')\n",
    "val = []\n",
    "for x in list(adata.obs['sample']):\n",
    "    if x.startswith('AF'):\n",
    "        val.append('AF')\n",
    "    else:\n",
    "        val.append('NAF')\n",
    "adata.obs['sample_group'] = np.array(val)"
   ]
  },
  {
   "cell_type": "code",
   "execution_count": 11,
   "id": "12b66c35",
   "metadata": {},
   "outputs": [
    {
     "data": {
      "text/plain": [
       "AnnData object with n_obs × n_vars = 27876 × 3000\n",
       "    obs: 'sample', 'n_genes', 'n_genes_by_counts', 'total_counts', 'total_counts_mt', 'pct_counts_mt', 'leiden', 'leiden_poly', 'sample_group'\n",
       "    var: 'gene_ids', 'feature_types', 'n_cells', 'mt', 'n_cells_by_counts', 'mean_counts', 'pct_dropout_by_counts', 'total_counts', 'highly_variable', 'means', 'dispersions', 'dispersions_norm', 'mean', 'std'\n",
       "    uns: 'dendrogram_leiden', 'hvg', 'leiden', 'leiden_colors', 'leiden_poly_colors', 'log1p', 'neighbors', 'pca', 'rank_genes_groups', 'sample_colors', 'umap'\n",
       "    obsm: 'X_pca', 'X_umap'\n",
       "    varm: 'PCs'\n",
       "    obsp: 'connectivities', 'distances'"
      ]
     },
     "execution_count": 11,
     "metadata": {},
     "output_type": "execute_result"
    }
   ],
   "source": [
    "adata"
   ]
  },
  {
   "cell_type": "code",
   "execution_count": 12,
   "id": "94d47564",
   "metadata": {},
   "outputs": [
    {
     "name": "stdout",
     "output_type": "stream",
     "text": [
      "cells:  27876\n",
      "AF  16053\n",
      "NAF:  11823\n"
     ]
    }
   ],
   "source": [
    "# 选择你想细分的类，有可能是leiden_ploy这个key内存了你的大类，可以两个都试试如果报错\n",
    "# adata = adata[adata.obs['leiden_poly'].isin(['Fibroblasts'])] \n",
    "n_af = adata[adata.obs['sample_group'].isin(['AF'])].shape[0] \n",
    "n_naf = adata[adata.obs['sample_group'].isin(['NAF'])].shape[0] \n",
    "print('cells: ', adata.obs.shape[0])\n",
    "print('AF ', n_af)\n",
    "print('NAF: ', n_naf)"
   ]
  },
  {
   "cell_type": "code",
   "execution_count": 13,
   "id": "f3aa4fca",
   "metadata": {},
   "outputs": [],
   "source": [
    "df = adata.obs.groupby(by=['leiden_poly','sample_group']).count().loc[:,'sample']"
   ]
  },
  {
   "cell_type": "code",
   "execution_count": 14,
   "id": "55cc0d75",
   "metadata": {},
   "outputs": [],
   "source": [
    "df = pd.DataFrame(df)"
   ]
  },
  {
   "cell_type": "code",
   "execution_count": 15,
   "id": "46b78dd7",
   "metadata": {},
   "outputs": [
    {
     "data": {
      "text/plain": [
       "MultiIndex([('Fib1',  'AF'),\n",
       "            ('Fib1', 'NAF'),\n",
       "            ('Fib2',  'AF'),\n",
       "            ('Fib2', 'NAF'),\n",
       "            ('Fib3',  'AF'),\n",
       "            ('Fib3', 'NAF')],\n",
       "           names=['leiden_poly', 'sample_group'])"
      ]
     },
     "execution_count": 15,
     "metadata": {},
     "output_type": "execute_result"
    }
   ],
   "source": [
    "df.index"
   ]
  },
  {
   "cell_type": "code",
   "execution_count": 16,
   "id": "d5225f6f",
   "metadata": {},
   "outputs": [],
   "source": [
    "node = []\n",
    "links = []\n",
    "for val in list(df.index):\n",
    "    dic = {}\n",
    "    dic['source'] = val[0]\n",
    "    dic['target'] = val[1]\n",
    "    dic['value'] = df.loc[val[0],:].loc[val[1],'sample']\n",
    "    \n",
    "    links.append(dic)\n",
    "\n",
    "for val in df.index:\n",
    "    node += list(val)\n",
    "nodes = []\n",
    "node = np.unique(node)\n",
    "for val in node:\n",
    "    nodes.append({'name':val})"
   ]
  },
  {
   "cell_type": "code",
   "execution_count": 17,
   "id": "54d6bdc6",
   "metadata": {},
   "outputs": [
    {
     "data": {
      "text/html": [
       "<div>\n",
       "<style scoped>\n",
       "    .dataframe tbody tr th:only-of-type {\n",
       "        vertical-align: middle;\n",
       "    }\n",
       "\n",
       "    .dataframe tbody tr th {\n",
       "        vertical-align: top;\n",
       "    }\n",
       "\n",
       "    .dataframe thead th {\n",
       "        text-align: right;\n",
       "    }\n",
       "</style>\n",
       "<table border=\"1\" class=\"dataframe\">\n",
       "  <thead>\n",
       "    <tr style=\"text-align: right;\">\n",
       "      <th></th>\n",
       "      <th></th>\n",
       "      <th>sample</th>\n",
       "    </tr>\n",
       "    <tr>\n",
       "      <th>leiden_poly</th>\n",
       "      <th>sample_group</th>\n",
       "      <th></th>\n",
       "    </tr>\n",
       "  </thead>\n",
       "  <tbody>\n",
       "    <tr>\n",
       "      <th rowspan=\"2\" valign=\"top\">Fib1</th>\n",
       "      <th>AF</th>\n",
       "      <td>12230</td>\n",
       "    </tr>\n",
       "    <tr>\n",
       "      <th>NAF</th>\n",
       "      <td>7282</td>\n",
       "    </tr>\n",
       "    <tr>\n",
       "      <th rowspan=\"2\" valign=\"top\">Fib2</th>\n",
       "      <th>AF</th>\n",
       "      <td>3574</td>\n",
       "    </tr>\n",
       "    <tr>\n",
       "      <th>NAF</th>\n",
       "      <td>3183</td>\n",
       "    </tr>\n",
       "    <tr>\n",
       "      <th rowspan=\"2\" valign=\"top\">Fib3</th>\n",
       "      <th>AF</th>\n",
       "      <td>249</td>\n",
       "    </tr>\n",
       "    <tr>\n",
       "      <th>NAF</th>\n",
       "      <td>1358</td>\n",
       "    </tr>\n",
       "  </tbody>\n",
       "</table>\n",
       "</div>"
      ],
      "text/plain": [
       "                          sample\n",
       "leiden_poly sample_group        \n",
       "Fib1        AF             12230\n",
       "            NAF             7282\n",
       "Fib2        AF              3574\n",
       "            NAF             3183\n",
       "Fib3        AF               249\n",
       "            NAF             1358"
      ]
     },
     "execution_count": 17,
     "metadata": {},
     "output_type": "execute_result"
    }
   ],
   "source": [
    "df"
   ]
  },
  {
   "cell_type": "code",
   "execution_count": 22,
   "id": "7a132af0",
   "metadata": {},
   "outputs": [],
   "source": [
    "nodes=[{'name': 'AF'},\n",
    "  {'name': 'Fib1'},\n",
    "  {'name': 'Fib2'},\n",
    "  {'name': 'Fib3'},\n",
    "  {'name': 'NAF'}]\n",
    "links= [{'source': 'Fib1', 'target': 'AF', 'value': 12230},\n",
    "  {'source': 'Fib1', 'target': 'NAF', 'value': 7282},\n",
    "  {'source': 'Fib2', 'target': 'AF', 'value': 3574},\n",
    "  {'source': 'Fib2', 'target': 'NAF', 'value': 3183},\n",
    "  {'source': 'Fib3', 'target': 'AF', 'value': 249},\n",
    "  {'source': 'Fib3', 'target': 'NAF', 'value': 1358}]"
   ]
  },
  {
   "cell_type": "code",
   "execution_count": 23,
   "id": "5e22ede8",
   "metadata": {},
   "outputs": [
    {
     "data": {
      "text/plain": [
       "'/Users/ckw/project/knee/analysis/notebook/test.html'"
      ]
     },
     "execution_count": 23,
     "metadata": {},
     "output_type": "execute_result"
    }
   ],
   "source": [
    "pic=(\n",
    "    Sankey().add(\n",
    "        '',#图例名称\n",
    "        nodes,#传入节点数据\n",
    "        links,#传入边和流量数据\n",
    "        #设置透明度、弯曲度、颜色\n",
    "        linestyle_opt=opts.LineStyleOpts(opacity=0.3,curve=0.5,color='source'),\n",
    "        #标签显示位置\n",
    "        label_opts=opts.LabelOpts(),\n",
    "        #节点之间的距离\n",
    "        node_gap=30,\n",
    "    )\n",
    "    .set_global_opts()\n",
    ")\n",
    "pic.render('test.html')"
   ]
  },
  {
   "cell_type": "code",
   "execution_count": 10,
   "id": "9750e38f",
   "metadata": {},
   "outputs": [
    {
     "data": {
      "text/plain": [
       "[{'source': 'fib_2', 'target': 'AF', 'value': 2587},\n",
       " {'source': 'fib_2', 'target': 'NAF', 'value': 3035},\n",
       " {'source': 'fib_APOD', 'target': 'AF', 'value': 254},\n",
       " {'source': 'fib_APOD', 'target': 'NAF', 'value': 1320},\n",
       " {'source': 'fib_CD55', 'target': 'AF', 'value': 13304},\n",
       " {'source': 'fib_CD55', 'target': 'NAF', 'value': 7633}]"
      ]
     },
     "execution_count": 10,
     "metadata": {},
     "output_type": "execute_result"
    }
   ],
   "source": [
    "links"
   ]
  },
  {
   "cell_type": "code",
   "execution_count": null,
   "id": "17071174",
   "metadata": {},
   "outputs": [],
   "source": []
  },
  {
   "cell_type": "code",
   "execution_count": null,
   "id": "b03dd9dc",
   "metadata": {},
   "outputs": [],
   "source": []
  }
 ],
 "metadata": {
  "kernelspec": {
   "display_name": "ckw",
   "language": "python",
   "name": "ckw"
  },
  "language_info": {
   "codemirror_mode": {
    "name": "ipython",
    "version": 3
   },
   "file_extension": ".py",
   "mimetype": "text/x-python",
   "name": "python",
   "nbconvert_exporter": "python",
   "pygments_lexer": "ipython3",
   "version": "3.10.0"
  }
 },
 "nbformat": 4,
 "nbformat_minor": 5
}
